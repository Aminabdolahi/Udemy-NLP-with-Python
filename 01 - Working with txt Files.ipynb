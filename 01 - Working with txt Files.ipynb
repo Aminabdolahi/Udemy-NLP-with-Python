{
 "cells": [
  {
   "cell_type": "code",
   "execution_count": 1,
   "metadata": {},
   "outputs": [],
   "source": [
    "name = 'ismail'"
   ]
  },
  {
   "cell_type": "code",
   "execution_count": 2,
   "metadata": {},
   "outputs": [
    {
     "name": "stdout",
     "output_type": "stream",
     "text": [
      "my name is ismail\n"
     ]
    }
   ],
   "source": [
    "print('my name is {}'.format(name))"
   ]
  },
  {
   "cell_type": "code",
   "execution_count": 3,
   "metadata": {},
   "outputs": [
    {
     "name": "stdout",
     "output_type": "stream",
     "text": [
      "my name is ismail\n"
     ]
    }
   ],
   "source": [
    "# new version\n",
    "print(f'my name is {name}')"
   ]
  },
  {
   "cell_type": "code",
   "execution_count": 4,
   "metadata": {},
   "outputs": [
    {
     "name": "stdout",
     "output_type": "stream",
     "text": [
      "my number is 123\n"
     ]
    }
   ],
   "source": [
    "my_dict = {'a':123, 'b':231}\n",
    "print(f\"my number is {my_dict['a']}\")"
   ]
  },
  {
   "cell_type": "code",
   "execution_count": 5,
   "metadata": {},
   "outputs": [
    {
     "name": "stdout",
     "output_type": "stream",
     "text": [
      "my list number is 1\n"
     ]
    }
   ],
   "source": [
    "my_list = [1,2,3]\n",
    "print(f'my list number is {my_list[0]}')"
   ]
  },
  {
   "cell_type": "code",
   "execution_count": 6,
   "metadata": {},
   "outputs": [
    {
     "data": {
      "text/plain": [
       "[('Author', 'Topic', 'Pages'),\n",
       " ('Twain', 'Rafting', 601),\n",
       " ('Feynman', 'Physics', 95),\n",
       " ('Hamilton', 'Mythology', 144)]"
      ]
     },
     "execution_count": 6,
     "metadata": {},
     "output_type": "execute_result"
    }
   ],
   "source": [
    "library = [('Author', 'Topic', 'Pages'), ('Twain', 'Rafting', 601), ('Feynman', 'Physics', 95), ('Hamilton', 'Mythology', 144)]\n",
    "library"
   ]
  },
  {
   "cell_type": "code",
   "execution_count": 7,
   "metadata": {},
   "outputs": [
    {
     "name": "stdout",
     "output_type": "stream",
     "text": [
      "Author is Author\n",
      "Author is Twain\n",
      "Author is Feynman\n",
      "Author is Hamilton\n"
     ]
    }
   ],
   "source": [
    "for book in library:\n",
    "    print(f'Author is {book[0]}')"
   ]
  },
  {
   "cell_type": "code",
   "execution_count": 8,
   "metadata": {},
   "outputs": [
    {
     "name": "stdout",
     "output_type": "stream",
     "text": [
      "Author Topic Pages\n",
      "Twain Rafting 601\n",
      "Feynman Physics 95\n",
      "Hamilton Mythology 144\n"
     ]
    }
   ],
   "source": [
    "# unpacking the tuple\n",
    "for author, book, pages in library:\n",
    "    print(f'{author} {book} {pages}')"
   ]
  },
  {
   "cell_type": "code",
   "execution_count": 9,
   "metadata": {},
   "outputs": [
    {
     "name": "stdout",
     "output_type": "stream",
     "text": [
      "Author     Topic                     Pages\n",
      "Author     Topic                -----Pages\n",
      "Twain      Rafting                     601\n",
      "Twain      Rafting              -------601\n",
      "Feynman    Physics                      95\n",
      "Feynman    Physics              --------95\n",
      "Hamilton   Mythology                   144\n",
      "Hamilton   Mythology            -------144\n"
     ]
    }
   ],
   "source": [
    "# giving space to elements by : {10} notation\n",
    "# :>{10} means fill with '-' up to the 10 character\n",
    "for author, book, pages in library:\n",
    "    print(f'{author:{10}} {book:{20}} {pages:>{10}}')\n",
    "    print(f'{author:{10}} {book:{20}} {pages:->{10}}') "
   ]
  },
  {
   "cell_type": "code",
   "execution_count": 10,
   "metadata": {},
   "outputs": [
    {
     "data": {
      "text/plain": [
       "datetime.datetime(2019, 2, 28, 0, 0)"
      ]
     },
     "execution_count": 10,
     "metadata": {},
     "output_type": "execute_result"
    }
   ],
   "source": [
    "from datetime import datetime\n",
    "date = datetime(year = 2019, month=2, day=28)\n",
    "date"
   ]
  },
  {
   "cell_type": "code",
   "execution_count": 11,
   "metadata": {
    "scrolled": true
   },
   "outputs": [
    {
     "name": "stdout",
     "output_type": "stream",
     "text": [
      "February 28, 2019\n"
     ]
    }
   ],
   "source": [
    "# reference: https://strftime.org/\n",
    "print(f'{date:%B %d, %Y}')"
   ]
  },
  {
   "cell_type": "markdown",
   "metadata": {},
   "source": [
    "creating txt files with magic jupyter command."
   ]
  },
  {
   "cell_type": "code",
   "execution_count": 12,
   "metadata": {},
   "outputs": [
    {
     "name": "stdout",
     "output_type": "stream",
     "text": [
      "Overwriting test.txt\n"
     ]
    }
   ],
   "source": [
    "%%writefile sources/test.txt\n",
    "Hello\n",
    "This is a test file.\n",
    "This line is the end of this test document."
   ]
  },
  {
   "cell_type": "code",
   "execution_count": 13,
   "metadata": {},
   "outputs": [],
   "source": [
    "# for the same working folder it is enough to write only file name as param.\n",
    "# for other directories please indicate all the path with \\\\\n",
    "text_file = open('sources/test.txt')"
   ]
  },
  {
   "cell_type": "code",
   "execution_count": 14,
   "metadata": {},
   "outputs": [
    {
     "data": {
      "text/plain": [
       "'Hello\\nThis is a test file.\\nThis line is the end of this test document.\\n'"
      ]
     },
     "execution_count": 14,
     "metadata": {},
     "output_type": "execute_result"
    }
   ],
   "source": [
    "# read() method is used for reading the file and for it reads the file with a cursor. \n",
    "text_file.read()"
   ]
  },
  {
   "cell_type": "code",
   "execution_count": 15,
   "metadata": {},
   "outputs": [
    {
     "data": {
      "text/plain": [
       "''"
      ]
     },
     "execution_count": 15,
     "metadata": {},
     "output_type": "execute_result"
    }
   ],
   "source": [
    "# for the immideate 2nd read the result will be ''\n",
    "text_file.read()"
   ]
  },
  {
   "cell_type": "code",
   "execution_count": 16,
   "metadata": {},
   "outputs": [
    {
     "data": {
      "text/plain": [
       "'Hello\\nThis is a test file.\\nThis line is the end of this test document.\\n'"
      ]
     },
     "execution_count": 16,
     "metadata": {},
     "output_type": "execute_result"
    }
   ],
   "source": [
    "# changing cursor location. So, read() method can read the results\n",
    "text_file.seek(0)\n",
    "content = text_file.read()\n",
    "content"
   ]
  },
  {
   "cell_type": "code",
   "execution_count": 17,
   "metadata": {},
   "outputs": [
    {
     "name": "stdout",
     "output_type": "stream",
     "text": [
      "Hello\n",
      "This is a test file.\n",
      "This line is the end of this test document.\n",
      "\n"
     ]
    }
   ],
   "source": [
    "# to see the content as its format\n",
    "print(content)"
   ]
  },
  {
   "cell_type": "code",
   "execution_count": 18,
   "metadata": {},
   "outputs": [
    {
     "data": {
      "text/plain": [
       "['Hello\\n',\n",
       " 'This is a test file.\\n',\n",
       " 'This line is the end of this test document.\\n']"
      ]
     },
     "execution_count": 18,
     "metadata": {},
     "output_type": "execute_result"
    }
   ],
   "source": [
    "# readlines reads the each line of the txt file as a list\n",
    "text_file.seek(0)\n",
    "text_file.readlines()"
   ]
  },
  {
   "cell_type": "code",
   "execution_count": 19,
   "metadata": {},
   "outputs": [
    {
     "name": "stdout",
     "output_type": "stream",
     "text": [
      "Hello\n",
      "This is a test file.\n",
      "This line is the end of this test document.\n",
      "this is a new line\n",
      "this is the second new line\n"
     ]
    }
   ],
   "source": [
    "# w+: openning a file in reading and writing mode, it overwrites the file. should be used carefully\n",
    "# a+: openning a file for appending, if the file not exist, it creates new one\n",
    "# permissions are managed by different params. w, r, x, a...\n",
    "text_file2 = open('sources/test.txt', 'a+')\n",
    "text_file2.write('this is a new line')\n",
    "text_file2.write('\\nthis is the second new line')\n",
    "text_file2.seek(0)\n",
    "print(text_file2.read())"
   ]
  },
  {
   "cell_type": "code",
   "execution_count": 20,
   "metadata": {},
   "outputs": [],
   "source": [
    "# if the works done, file should be closed\n",
    "text_file.close()\n",
    "text_file2.close()"
   ]
  },
  {
   "cell_type": "code",
   "execution_count": 21,
   "metadata": {},
   "outputs": [
    {
     "name": "stdout",
     "output_type": "stream",
     "text": [
      "['Hello\\n', 'This is a test file.\\n', 'This line is the end of this test document.\\n', 'this is a new line\\n', 'this is the second new line']\n"
     ]
    }
   ],
   "source": [
    "# context manager: safer mode of openning a file is 'with open' notation. no need to close the file etc.\n",
    "with open('sources/test.txt', 'r') as new_file:\n",
    "    my_lines = new_file.readlines()\n",
    "    print(my_lines)"
   ]
  },
  {
   "cell_type": "code",
   "execution_count": null,
   "metadata": {},
   "outputs": [],
   "source": []
  }
 ],
 "metadata": {
  "kernelspec": {
   "display_name": "Python 3",
   "language": "python",
   "name": "python3"
  },
  "language_info": {
   "codemirror_mode": {
    "name": "ipython",
    "version": 3
   },
   "file_extension": ".py",
   "mimetype": "text/x-python",
   "name": "python",
   "nbconvert_exporter": "python",
   "pygments_lexer": "ipython3",
   "version": "3.8.3"
  }
 },
 "nbformat": 4,
 "nbformat_minor": 4
}
